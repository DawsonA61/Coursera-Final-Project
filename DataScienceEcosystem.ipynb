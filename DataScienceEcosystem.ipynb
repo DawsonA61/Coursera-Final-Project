{
 "cells": [
  {
   "cell_type": "markdown",
   "id": "05152f6b-8640-4ea3-82c0-7fe3c5ab3a42",
   "metadata": {},
   "source": [
    "# Data Science Tools and Ecosystems #"
   ]
  },
  {
   "cell_type": "markdown",
   "id": "eaaa3550-ab52-4cc9-ad2a-6e063cf5e968",
   "metadata": {},
   "source": [
    "## Author ##\n",
    "Dawson Aronhalt"
   ]
  },
  {
   "cell_type": "markdown",
   "id": "28b4bf56-a38a-4d9f-91c4-7edc3fff2a35",
   "metadata": {},
   "source": [
    "In this notebook, Data Science Tools and Ecosystems are summarized. "
   ]
  },
  {
   "cell_type": "markdown",
   "id": "f54e4eb9-3063-4761-8a45-fdc8f93888ef",
   "metadata": {},
   "source": [
    "**Objectives:**\n",
    " * List popular languages for Data Science  \n",
    " * List commonly used libraries for Data Science\n",
    " * List Popular Data Science Tools \n",
    " * Create examples of arithmetic expressions in Python"
   ]
  },
  {
   "cell_type": "markdown",
   "id": "b30e5819-4dfc-4ffc-be5f-7393e90fce7c",
   "metadata": {
    "tags": []
   },
   "source": [
    "Some of the popular languages that Data Scientists use are: \n",
    "1. Python \n",
    "2. R \n",
    "3. SQL\n"
   ]
  },
  {
   "cell_type": "markdown",
   "id": "4eb97781-6fb5-435e-9025-c7d1f90d4e7c",
   "metadata": {},
   "source": [
    "Some of the commonly used libraries used by Data Scientists include: \n",
    "1. ggplot2\n",
    "2. Pandas\n",
    "3. TensorFlow\n",
    "4. NumPy"
   ]
  },
  {
   "cell_type": "markdown",
   "id": "610867cd-1e25-46a9-9139-9061aa458742",
   "metadata": {},
   "source": [
    "| Data Science Tools |\n",
    "|--------------------|\n",
    "| Jupyter Notebook   |\n",
    "| RStudio            |\n",
    "| Apache Zeppelin    |"
   ]
  },
  {
   "cell_type": "markdown",
   "id": "e1c31101-f99e-451b-a4b0-55186cc23b51",
   "metadata": {
    "tags": []
   },
   "source": [
    "### Below are a few examples of evaluating arithmetic expressions in Python ###"
   ]
  },
  {
   "cell_type": "markdown",
   "id": "07106032-f9ad-4071-a978-21c26cbc29dd",
   "metadata": {
    "tags": []
   },
   "source": [
    "This is a simple arithmetic expression to multiply and then add integers"
   ]
  },
  {
   "cell_type": "code",
   "execution_count": 3,
   "id": "a8545d39-96fb-49a7-8d6a-d9908fca9600",
   "metadata": {
    "tags": []
   },
   "outputs": [
    {
     "data": {
      "text/plain": [
       "17"
      ]
     },
     "execution_count": 3,
     "metadata": {},
     "output_type": "execute_result"
    }
   ],
   "source": [
    "(3*4)+5"
   ]
  },
  {
   "cell_type": "markdown",
   "id": "ecafc353-af7e-4c03-b297-d09c55add602",
   "metadata": {},
   "source": [
    "This will covert 200 minutes to hours by dividing by 60"
   ]
  },
  {
   "cell_type": "code",
   "execution_count": 6,
   "id": "b171490d-6601-4525-af9d-19c06f6a3901",
   "metadata": {
    "tags": []
   },
   "outputs": [
    {
     "data": {
      "text/plain": [
       "3.3333333333333335"
      ]
     },
     "execution_count": 6,
     "metadata": {},
     "output_type": "execute_result"
    }
   ],
   "source": [
    "200/60"
   ]
  },
  {
   "cell_type": "code",
   "execution_count": null,
   "id": "2d4ee475-877f-4938-8453-b0d8e08a7c11",
   "metadata": {},
   "outputs": [],
   "source": []
  }
 ],
 "metadata": {
  "kernelspec": {
   "display_name": "Python",
   "language": "python",
   "name": "conda-env-python-py"
  },
  "language_info": {
   "codemirror_mode": {
    "name": "ipython",
    "version": 3
   },
   "file_extension": ".py",
   "mimetype": "text/x-python",
   "name": "python",
   "nbconvert_exporter": "python",
   "pygments_lexer": "ipython3",
   "version": "3.7.12"
  }
 },
 "nbformat": 4,
 "nbformat_minor": 5
}
